{
  "nbformat": 4,
  "nbformat_minor": 0,
  "metadata": {
    "colab": {
      "name": "Object_Detection_model_TF2.ipynb",
      "provenance": [],
      "collapsed_sections": [],
      "machine_shape": "hm",
      "private_outputs": true
    },
    "kernelspec": {
      "name": "python3",
      "display_name": "Python 3"
    },
    "accelerator": "GPU"
  },
  "cells": [
    {
      "cell_type": "markdown",
      "metadata": {
        "id": "pjfRnVN12JWF"
      },
      "source": [
        "# **1) Import Libraries**"
      ]
    },
    {
      "cell_type": "code",
      "metadata": {
        "id": "R1Fl0K9TVJ50"
      },
      "source": [
        "import os\n",
        "import glob\n",
        "import xml.etree.ElementTree as ET\n",
        "import pandas as pd\n",
        "import tensorflow as tf\n",
        "print(tf.__version__)\n"
      ],
      "execution_count": null,
      "outputs": []
    },
    {
      "cell_type": "markdown",
      "metadata": {
        "id": "OLsPGJiuxRrK"
      },
      "source": [
        "#**2) Mount driver**"
      ]
    },
    {
      "cell_type": "code",
      "metadata": {
        "id": "RhZoiRBoqnju"
      },
      "source": [
        "from google.colab import drive\n",
        "drive.mount('/content/gdrive')\n",
        "\n",
        "\n",
        "!ln -s /content/gdrive/My\\ Drive/ /mydrive\n",
        "!ls /mydrive"
      ],
      "execution_count": null,
      "outputs": []
    },
    {
      "cell_type": "markdown",
      "metadata": {
        "id": "useG4r6nOn9h"
      },
      "source": [
        "# **3) Clone the tensorflow models & Install TensorFlow Object Detection API**\n",
        "\n",
        "\n",
        "\n"
      ]
    },
    {
      "cell_type": "code",
      "metadata": {
        "id": "Iv3C8-s0koQU"
      },
      "source": [
        "# clone the tensorflow models on the colab cloud vm\n",
        "!git clone --q https://github.com/tensorflow/models.git\n",
        "\n",
        "#navigate to /models/research folder to compile protos\n",
        "%cd models/research\n",
        "\n",
        "# Compile protos.\n",
        "!protoc object_detection/protos/*.proto --python_out=.\n",
        "\n",
        "# Install TensorFlow Object Detection API.\n",
        "!cp object_detection/packages/tf2/setup.py .\n",
        "!python -m pip install .\n"
      ],
      "execution_count": null,
      "outputs": []
    },
    {
      "cell_type": "markdown",
      "metadata": {
        "id": "9D1UNW7c9O-I"
      },
      "source": [
        "# **4) Test the model builder**\n"
      ]
    },
    {
      "cell_type": "code",
      "metadata": {
        "id": "St1r_0-w9jqI"
      },
      "source": [
        "# testing the model builder\n",
        "!python object_detection/builders/model_builder_tf2_test.py"
      ],
      "execution_count": null,
      "outputs": []
    },
    {
      "cell_type": "markdown",
      "metadata": {
        "id": "2naqsZBA9WW4"
      },
      "source": [
        "# **5) Navigate to /mydrive/customTF2/data/ and Unzip the *images.zip* and *annotations.zip* files into the *data* folder**\n",
        "\n"
      ]
    },
    {
      "cell_type": "code",
      "metadata": {
        "id": "m1UT5_rrTw6e"
      },
      "source": [
        "%cd /mydrive/customTF2/data/\n",
        "\n",
        "# unzip the datasets and their contents so that they are now in /mydrive/customTF2/data/ folder\n",
        "!unzip /mydrive/customTF2/images.zip -d .\n",
        "!unzip /mydrive/customTF2/annotations.zip -d ."
      ],
      "execution_count": null,
      "outputs": []
    },
    {
      "cell_type": "markdown",
      "metadata": {
        "id": "vH67M2M12s3n"
      },
      "source": [
        "# **\\*6)If .records files are not created. Create the CSV files and the \"label_map.pbtxt\" file**\n",
        "\n",
        "Current working directory is /mydrive/customTF2/data/\n",
        "\n",
        "Run xml_to_csv script below to create ***test_labels.csv*** and ***train_labels.csv***\n",
        "\n",
        "This also creates the ***label_map.pbtxt*** file using the classes mentioned in the xml files. "
      ]
    },
    {
      "cell_type": "code",
      "metadata": {
        "id": "VyGisGxK4ag0"
      },
      "source": [
        "#adjusted from: https://github.com/datitran/raccoon_dataset\n",
        "def xml_to_csv(path):\n",
        "  classes_names = []\n",
        "  xml_list = []\n",
        "\n",
        "  for xml_file in glob.glob(path + '/*.xml'):\n",
        "    tree = ET.parse(xml_file)\n",
        "    root = tree.getroot()\n",
        "    for member in root.findall('object'):\n",
        "      classes_names.append(member[0].text)\n",
        "      value = (root.find('filename').text  ,   \n",
        "               int(root.find('size')[0].text),\n",
        "               int(root.find('size')[1].text),\n",
        "               member[0].text,\n",
        "               int(member[4][0].text),\n",
        "               int(member[4][1].text),\n",
        "               int(member[4][2].text),\n",
        "               int(member[4][3].text))\n",
        "      xml_list.append(value)\n",
        "  column_name = ['filename', 'width', 'height', 'class', 'xmin', 'ymin', 'xmax', 'ymax']\n",
        "  xml_df = pd.DataFrame(xml_list, columns=column_name) \n",
        "  classes_names = list(set(classes_names))\n",
        "  classes_names.sort()\n",
        "  return xml_df, classes_names\n",
        "\n",
        "for label_path in ['train_labels', 'test_labels']:\n",
        "  image_path = os.path.join(os.getcwd(), label_path)\n",
        "  xml_df, classes = xml_to_csv(label_path)\n",
        "  xml_df.to_csv(f'{label_path}.csv', index=None)\n",
        "  print(f'Successfully converted {label_path} xml to csv.')\n",
        "\n",
        "label_map_path = os.path.join(\"label_map.pbtxt\")\n",
        "pbtxt_content = \"\"\n",
        "\n",
        "for i, class_name in enumerate(classes):\n",
        "    pbtxt_content = (\n",
        "        pbtxt_content\n",
        "        + \"item {{\\n    id: {0}\\n    name: '{1}'\\n}}\\n\\n\".format(i + 1, class_name)\n",
        "    )\n",
        "pbtxt_content = pbtxt_content.strip()\n",
        "with open(label_map_path, \"w\") as f:\n",
        "    f.write(pbtxt_content)\n",
        "    print('Successfully created label_map.pbtxt ')   "
      ],
      "execution_count": null,
      "outputs": []
    },
    {
      "cell_type": "markdown",
      "metadata": {
        "id": "kiYeJ7aomCOc"
      },
      "source": [
        "![customtf2.png](data:image/png;base64,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)"
      ]
    },
    {
      "cell_type": "markdown",
      "metadata": {
        "id": "tblFU-i495qr"
      },
      "source": [
        "# **\\*7)If .records files are not created. Create train.record & test.record files**\n",
        "\n",
        "Current working directory is /mydrive/customTF2/data/\n",
        "\n",
        "Run the *generate_tfrecord.py* script to create *train.record* and *test.record* files\n",
        "\n"
      ]
    },
    {
      "cell_type": "code",
      "metadata": {
        "id": "ET4SXdtYUIjZ"
      },
      "source": [
        "#Usage:  \n",
        "#!python generate_tfrecord.py output.csv output_pb.txt /path/to/images output.tfrecords\n",
        "\n",
        "#For train.record\n",
        "!python /mydrive/customTF2/generate_tfrecord.py train_labels.csv  label_map.pbtxt images/ train.record\n",
        "\n",
        "#For test.record\n",
        "!python /mydrive/customTF2/generate_tfrecord.py test_labels.csv  label_map.pbtxt images/ test.record\n"
      ],
      "execution_count": null,
      "outputs": []
    },
    {
      "cell_type": "markdown",
      "metadata": {
        "id": "nwWh49ClaBeD"
      },
      "source": [
        "# **8) Download pre-trained model checkpoint** \n",
        "\n",
        "Current working directory is /mydrive/customTF2/data/\n",
        "\n",
        "For Example:\n",
        "Download **ssd_mobilenet_v2_fpnlite_320x320_coco17_tpu-8.tar.gz** into the ***data*** folder & unzip it.\n",
        "\n",
        "A list of detection checkpoints for tensorflow 2.x can be found [here](https://github.com/tensorflow/models/blob/master/research/object_detection/g3doc/tf2_detection_zoo.md).\n",
        "\n"
      ]
    },
    {
      "cell_type": "code",
      "metadata": {
        "id": "obEW7RNEcowc"
      },
      "source": [
        "#Download the pre-trained model ssd_mobilenet_v2_fpnlite_320x320_coco17_tpu-8.tar.gz into the data folder & unzip it.\n",
        "\n",
        "!wget http://download.tensorflow.org/models/object_detection/tf2/20200711/faster_rcnn_resnet152_v1_640x640_coco17_tpu-8.tar.gz\n",
        "!tar -xzvf faster_rcnn_resnet152_v1_640x640_coco17_tpu-8.tar.gz"
      ],
      "execution_count": null,
      "outputs": []
    },
    {
      "cell_type": "markdown",
      "metadata": {
        "id": "XS-xqg02X9Ro"
      },
      "source": [
        "# **9) Get the model pipeline config file, make changes to it and put it inside the *data* folder**\n",
        "\n",
        "Current working directory is /mydrive/customTF2/data/\n",
        "\n",
        "Download **ssd_mobilenet_v2_fpnlite_320x320_coco17_tpu-8.config** from ***/content/models/research/object_detection/configs/tf2***. Make the required changes to it and upload it to the ***/mydrive/custom/data*** folder.\n",
        "\n",
        "\n",
        "**You need to make the following changes:**\n",
        "*   change ***num_classes*** to number of your classes.\n",
        "*   change ***test.record*** path, ***train.record*** path & ***labelmap*** path to the paths where you have created these files (paths should be relative to your current working directory while training).\n",
        "* change ***fine_tune_checkpoint*** to the path of the directory where the downloaded checkpoint from step 12 is. \n",
        "* change ***fine_tune_checkpoint_type*** with value **classification** or **detection** depending on the type..\n",
        "* change ***batch_size*** to any multiple of 8 depending upon the capability of your GPU.\n",
        "(eg:- 24,128,...,512).Mine is set to 64. \n",
        "* change ***num_steps*** to number of steps you want the detector to train. \n",
        "\n",
        "\n",
        "\n",
        "\n",
        "\n"
      ]
    },
    {
      "cell_type": "code",
      "metadata": {
        "id": "ze7ewaO3c545"
      },
      "source": [
        "#copy the edited config file from the configs/tf2 directory to the data/ folder in your drive\n",
        "\n",
        "!cp /content/models/research/object_detection/configs/tf2/ssd_mobilenet_v2_fpnlite_320x320_coco17_tpu-8.config /mydrive/customTF2/data"
      ],
      "execution_count": null,
      "outputs": []
    },
    {
      "cell_type": "markdown",
      "metadata": {
        "id": "88pz7JpMNRRK"
      },
      "source": [
        "# **10) Load Tensorboard**"
      ]
    },
    {
      "cell_type": "code",
      "metadata": {
        "id": "l-86d0AXNQp7"
      },
      "source": [
        "#load tensorboard\n",
        "\n",
        "%load_ext tensorboard         \n",
        "%tensorboard --logdir '/content/gdrive/MyDrive/customTF2bos/trainingfrcnn'"
      ],
      "execution_count": null,
      "outputs": []
    },
    {
      "cell_type": "markdown",
      "metadata": {
        "id": "tlzGrIfdAKj9"
      },
      "source": [
        "# **11) Train the model** \n",
        "\n",
        "\n",
        "\n",
        "\n"
      ]
    },
    {
      "cell_type": "markdown",
      "metadata": {
        "id": "yPmZ2cv17jIj"
      },
      "source": [
        "## Navigate to the ***object_detection*** folder in colab vm\n"
      ]
    },
    {
      "cell_type": "code",
      "metadata": {
        "id": "-40iq_0ZMgfL"
      },
      "source": [
        "%cd /content/models/research/object_detection"
      ],
      "execution_count": null,
      "outputs": []
    },
    {
      "cell_type": "code",
      "source": [
        "!pip uninstall opencv-python-headless==4.5.5.62\n",
        "\n",
        "!pip install opencv-python-headless==4.5.2.52"
      ],
      "metadata": {
        "id": "zIwPRonkrKCt"
      },
      "execution_count": null,
      "outputs": []
    },
    {
      "cell_type": "code",
      "source": [
        "!apt install --allow-change-held-packages libcudnn8=8.1.0.77-1+cuda11.2"
      ],
      "metadata": {
        "id": "6DM5LvEYrMhs"
      },
      "execution_count": null,
      "outputs": []
    },
    {
      "cell_type": "markdown",
      "metadata": {
        "id": "_pjP3TuBMjli"
      },
      "source": [
        "## 11 (a) Training using model_main_tf2.py\n",
        "\n",
        "Here **{PIPELINE_CONFIG_PATH}** points to the pipeline config and **{MODEL_DIR}** points to the directory in which training checkpoints and events will be written.\n",
        "\n",
        "For best results, you should stop the training when the loss is less than 0.1 if possible, else train the model until the loss does not show any significant change for a while. The ideal loss should be below 0.05 (Try to get the loss as low as possible without overfitting the model. Don’t go too high on training steps to try and lower the loss if the model has already converged viz. if it does not reduce loss significantly any further and takes a while to go down. )"
      ]
    },
    {
      "cell_type": "code",
      "metadata": {
        "id": "7LS0SBCgRuox"
      },
      "source": [
        "# Run the command below from the content/models/research/object_detection directory\n",
        "import time\n",
        "\"\"\"\n",
        "PIPELINE_CONFIG_PATH=path/to/pipeline.config\n",
        "MODEL_DIR=path to training checkpoints directory\n",
        "NUM_TRAIN_STEPS=50000\n",
        "SAMPLE_1_OF_N_EVAL_EXAMPLES=1\n",
        "\n",
        "python model_main_tf2.py -- \\\n",
        "  --model_dir=$MODEL_DIR --num_train_steps=$NUM_TRAIN_STEPS \\\n",
        "  --sample_1_of_n_eval_examples=$SAMPLE_1_OF_N_EVAL_EXAMPLES \\\n",
        "  --pipeline_config_path=$PIPELINE_CONFIG_PATH \\\n",
        "  --alsologtostderr\n",
        "\"\"\"\n",
        "start_time = time.time(\n",
        "!python model_main_tf2.py --pipeline_config_path=/content/gdrive/MyDrive/customTF2bos/data/faster_rcnn_resnet152_v1_640x640_coco17_tpu-8.config --model_dir=/content/gdrive/MyDrive/customTF2bos/trainingfrcnn --alsologtostderr\n",
        "end_time = time.time()\n",
        "elapsed_time = end_time - start_time\n",
        "print('Done! Took {} seconds'.format(elapsed_time))"
      ],
      "execution_count": null,
      "outputs": []
    },
    {
      "cell_type": "markdown",
      "metadata": {
        "id": "3-rHe_AzNSs8"
      },
      "source": [
        "## RETRAINING THE MODEL ( in case you get disconnected )\n",
        "\n",
        "\n",
        "\n",
        "\n",
        "``` \n",
        "fine_tune_checkpoint: \"/mydrive/customTF2/training/ckpt-X\" (where ckpt-X is the latest checkpoint)\n",
        "\n",
        "```\n"
      ]
    },
    {
      "cell_type": "markdown",
      "metadata": {
        "id": "Nxn-FtdtpsTx"
      },
      "source": [
        "# **12) Test your trained model**"
      ]
    },
    {
      "cell_type": "markdown",
      "metadata": {
        "id": "B_tTeYM5ScU1"
      },
      "source": [
        "## Export inference graph\n",
        "\n",
        "Current working directory is /content/models/research/object_detection"
      ]
    },
    {
      "cell_type": "code",
      "metadata": {
        "id": "NB4JHHqHSoiq"
      },
      "source": [
        "##Export inference graph\n",
        "!python exporter_main_v2.py --trained_checkpoint_dir=/content/gdrive/MyDrive/customTF2bos/trainingfrcnn --pipeline_config_path=/content/gdrive/MyDrive/customTF2bos/data/faster_rcnn_resnet152_v1_640x640_coco17_tpu-8.config --output_directory /content/gdrive/MyDrive/customTF2bos/data/inf_frcnn"
      ],
      "execution_count": null,
      "outputs": []
    },
    {
      "cell_type": "markdown",
      "metadata": {
        "id": "lIfZPBYbSgkZ"
      },
      "source": [
        "## Test your trained Object Detection model on images\n",
        "\n",
        "Current working directory is /content/models/research/object_detection"
      ]
    },
    {
      "cell_type": "code",
      "source": [
        "!unzip \"/content/test_images.zip\" -d \"/content\" #uploading test images"
      ],
      "metadata": {
        "id": "EyYP_Eplr7IE"
      },
      "execution_count": null,
      "outputs": []
    },
    {
      "cell_type": "code",
      "source": [
        "!zip -r \"/content/savedFrcnn.zip\" \"/content/gdrive/MyDrive/customTF2bos/data/inf_frcnn\" #For save and download inference graph"
      ],
      "metadata": {
        "id": "rQ3F4g13r7x1"
      },
      "execution_count": null,
      "outputs": []
    },
    {
      "cell_type": "code",
      "metadata": {
        "id": "LVHHs6vNJEVy"
      },
      "source": [
        "# Different font-type for labels text.(This step is optional)\n",
        "!wget https://freefontsdownload.net/download/160187/arial.zip\n",
        "!unzip arial.zip -d .\n",
        "\n",
        "%cd utils/\n",
        "!sed -i \"s/font = ImageFont.truetype('arial.ttf', 24)/font = ImageFont.truetype('arial.ttf', 20)/\" visualization_utils.py\n",
        "%cd .."
      ],
      "execution_count": null,
      "outputs": []
    },
    {
      "cell_type": "markdown",
      "source": [
        "## This code for testing 1 image"
      ],
      "metadata": {
        "id": "7BoQS-0pBMfY"
      }
    },
    {
      "cell_type": "code",
      "metadata": {
        "id": "6Iq2Wq3SKtOs"
      },
      "source": [
        "#Loading the saved_model\n",
        "import tensorflow as tf\n",
        "import time\n",
        "import numpy as np\n",
        "import warnings\n",
        "warnings.filterwarnings('ignore')\n",
        "from PIL import Image\n",
        "from google.colab.patches import cv2_imshow\n",
        "from object_detection.utils import label_map_util\n",
        "from object_detection.utils import visualization_utils as viz_utils\n",
        "\n",
        "IMAGE_SIZE = (12, 8) # Output display size as you want\n",
        "import matplotlib.pyplot as plt\n",
        "PATH_TO_SAVED_MODEL=\"/content/gdrive/MyDrive/customTF2ssd/data/inference_graph/saved_model\"\n",
        "print('Loading model...', end='')\n",
        "\n",
        "# Load saved model and build the detection function\n",
        "detect_fn=tf.saved_model.load(PATH_TO_SAVED_MODEL)\n",
        "print('Done!')\n",
        "\n",
        "#Loading the label_map\n",
        "category_index=label_map_util.create_category_index_from_labelmap(\"/content/gdrive/MyDrive/customTF2bos/data/label_map.pbtxt\",use_display_name=True)\n",
        "#category_index=label_map_util.create_category_index_from_labelmap([path_to_label_map],use_display_name=True)\n",
        "\n",
        "def load_image_into_numpy_array(path):\n",
        "\n",
        "    return np.array(Image.open(path))\n",
        "\n",
        "image_path = \"/content/testforit/Gao_ship_vh_020161130030501002.jpg\"\n",
        "#print('Running inference for {}... '.format(image_path), end='')\n",
        "\n",
        "image_np = load_image_into_numpy_array(image_path)\n",
        "if(len(image_np.shape)<3):\n",
        "      image_np = np.stack((image_np,)*3, axis=-1)\n",
        "\n",
        "# The input needs to be a tensor, convert it using `tf.convert_to_tensor`.\n",
        "input_tensor = tf.convert_to_tensor(image_np)\n",
        "# The model expects a batch of images, so add an axis with `tf.newaxis`.\n",
        "input_tensor = input_tensor[tf.newaxis, ...]\n",
        "start_time = time.time()\n",
        "detections = detect_fn(input_tensor)\n",
        "end_time = time.time()\n",
        "elapsed_time = end_time - start_time\n",
        "print('Done! Took {} seconds'.format(elapsed_time))\n",
        "\n",
        "# All outputs are batches tensors.\n",
        "# Convert to numpy arrays, and take index [0] to remove the batch dimension.\n",
        "# We're only interested in the first num_detections.\n",
        "num_detections = int(detections.pop('num_detections'))\n",
        "detections = {key: value[0, :num_detections].numpy()\n",
        "              for key, value in detections.items()}\n",
        "detections['num_detections'] = num_detections\n",
        "\n",
        "# detection_classes should be ints.\n",
        "detections['detection_classes'] = detections['detection_classes'].astype(np.int64)\n",
        "\n",
        "image_np_with_detections = image_np.copy()\n",
        "\n",
        "viz_utils.visualize_boxes_and_labels_on_image_array(\n",
        "      image_np_with_detections,\n",
        "      detections['detection_boxes'],\n",
        "      detections['detection_classes'],\n",
        "      detections['detection_scores'],\n",
        "      category_index,\n",
        "      use_normalized_coordinates=True,\n",
        "      max_boxes_to_draw=200,\n",
        "      min_score_thresh=.3, # Adjust this value to set the minimum probability boxes to be classified as True\n",
        "      agnostic_mode=False)\n",
        "%matplotlib inline\n",
        "plt.figure()\n",
        "plt.axis(\"off\")\n",
        "plt.imshow(image_np_with_detections)\n",
        "plt.show()"
      ],
      "execution_count": null,
      "outputs": []
    },
    {
      "cell_type": "markdown",
      "source": [
        "## This code for testing all test images and create test coordinates"
      ],
      "metadata": {
        "id": "mfVb_JDeBVHA"
      }
    },
    {
      "cell_type": "code",
      "source": [
        "min_score_thresh=0.3\n",
        "import numpy as np\n",
        "from PIL import Image\n",
        "import matplotlib.pyplot as plt\n",
        "import warnings\n",
        "import time\n",
        "warnings.filterwarnings('ignore')   # Suppress Matplotlib warnings\n",
        "%matplotlib inline\n",
        "image_path=\"\"\n",
        "\n",
        "def load_image_into_numpy_array(path):\n",
        "    \"\"\"Load an image from file into a numpy array.\n",
        "\n",
        "    Puts image into numpy array to feed into tensorflow graph.\n",
        "    Note that by convention we put it into a numpy array with shape\n",
        "    (height, width, channels), where channels=3 for RGB.\n",
        "\n",
        "    Args:\n",
        "      path: the file path to the image\n",
        "\n",
        "    Returns:\n",
        "      uint8 numpy array with shape (img_height, img_width, 3)\n",
        "    \"\"\"\n",
        "    return np.array(Image.open(path))\n",
        "\n",
        "\n",
        "relevant_path =  r'/content/testforit/'\n",
        "relevant_path2 =  r'/content/res'\n",
        "included_extensions = ['jpg','jpeg', 'bmp', 'png', 'gif']\n",
        "file_names = [fn for fn in os.listdir(relevant_path)\n",
        "              if any(fn.endswith(ext) for ext in included_extensions)]\n",
        "\n",
        "cc=0\n",
        "#start_time = time.time()\n",
        "for image_path in file_names:\n",
        "\n",
        "    cc=cc+1\n",
        "    print('% ',(100*cc)/len(file_names))\n",
        "    print(image_path)\n",
        "\n",
        "    image_np = load_image_into_numpy_array(relevant_path+image_path)\n",
        "\n",
        "    if(len(image_np.shape)<3):\n",
        "      image_np = np.stack((image_np,)*3, axis=-1)\n",
        "\n",
        "    # Things to try:\n",
        "    # Flip horizontally\n",
        "    # image_np = np.fliplr(image_np).copy()\n",
        "\n",
        "    # Convert image to grayscale\n",
        "    # image_np = np.tile(\n",
        "    #     np.mean(image_np, 2, keepdims=True), (1, 1, 3)).astype(np.uint8)\n",
        "\n",
        "    # The input needs to be a tensor, convert it using `tf.convert_to_tensor`.\n",
        "    input_tensor = tf.convert_to_tensor(image_np,dtype=tf.uint8)\n",
        "    #input_tensor = tf.convert_to_tensor(np.expand_dims(image_np, 0), dtype=tf.uint8)\n",
        "    # The model expects a batch of images, so add an axis with `tf.newaxis`.\n",
        "    #EKLEMEinput_tensor = input_tensor[:, :, :, :3]\n",
        "    #input_tensor = np.expand_dims(image_np, 0)\n",
        "    input_tensor = input_tensor[tf.newaxis, ...]\n",
        "    start_time = time.time()\n",
        "\n",
        "    detections = detect_fn(input_tensor)\n",
        "\n",
        "    end_time = time.time()\n",
        "    elapsed_time = end_time - start_time\n",
        "    print('Done! Took {} seconds'.format(elapsed_time))\n",
        "\n",
        "    # All outputs are batches tensors.\n",
        "    # Convert to numpy arrays, and take index [0] to remove the batch dimension.\n",
        "    # We're only interested in the first num_detections.\n",
        "    num_detections = int(detections.pop('num_detections'))\n",
        "    detections = {key: value[0, :num_detections].numpy()\n",
        "                   for key, value in detections.items()}\n",
        "    detections['num_detections'] = num_detections\n",
        "\n",
        "    # detection_classes should be ints.\n",
        "    detections['detection_classes'] = detections['detection_classes'].astype(np.int64)\n",
        "\n",
        "    image_np_with_detections = image_np.copy()\n",
        "    \n",
        "    viz_utils.visualize_boxes_and_labels_on_image_array(\n",
        "          image_np_with_detections,\n",
        "          detections['detection_boxes'],\n",
        "          detections['detection_classes'],\n",
        "          detections['detection_scores'],\n",
        "          category_index,\n",
        "          use_normalized_coordinates=True,\n",
        "          max_boxes_to_draw=20,\n",
        "          min_score_thresh=.30,\n",
        "          agnostic_mode=False)\n",
        "    \n",
        "\n",
        "        # This is the way I'm getting my coordinates\n",
        "    boxes = detections['detection_boxes']\n",
        "    # get all boxes from an array\n",
        "    max_boxes_to_draw = boxes.shape[0]\n",
        "    # get scores to get a threshold\n",
        "    scores = detections['detection_scores']\n",
        "    # this is set as a default but feel free to adjust it to your needs\n",
        "    path = os.path.join(relevant_path2, image_path)\n",
        "    # print(path)\n",
        "    try:\n",
        "      f = open(path[:-4] + '.txt', \"w\")\n",
        "    except:\n",
        "      print(\"An exception occurred\")\n",
        "\n",
        "    im_width = 256\n",
        "    im_height = 256\n",
        "    # print(im_width)\n",
        "\n",
        "    # iterate over all objects found\n",
        "    for i in range(min(max_boxes_to_draw, boxes.shape[0])):\n",
        "        #\n",
        "        if scores is None or scores[i] > min_score_thresh:\n",
        "            # boxes[i] is the box which will be drawn\n",
        "            class_name = category_index[detections['detection_classes'][i]]['name']\n",
        "            # print (\"This box is gonna get used\", boxes[i], detections['detection_classes'][i])\n",
        "            xmin = round(boxes[i, 1] * im_width)\n",
        "            xmax = round(boxes[i, 3] * im_height)\n",
        "            ymin = round(boxes[i, 0] * im_width)\n",
        "            ymax = round(boxes[i, 2] * im_height)\n",
        "            score = round(detections['detection_scores'][i], 2)\n",
        "            f.write(class_name + ' ' + str(score) + ' ' + str(xmin) + ' ' + str(ymin) + ' ' + str(xmax) + ' ' + str(\n",
        "                ymax) + '\\n')\n",
        "\n",
        "    f.close()\n",
        "    # iterate over all objects found\n",
        "    #for i in range(min(max_boxes_to_draw, boxes.shape[0])):      \n",
        "    plt.figure()\n",
        "    plt.imshow(image_np_with_detections)\n",
        "    print('Done')\n",
        "    plt.show()\n",
        "    time.sleep(1)\n",
        "\n",
        "#end_time = time.time()\n",
        "#elapsed_time = end_time - start_time\n",
        "#print('Done! Took {} seconds'.format(elapsed_time))"
      ],
      "metadata": {
        "id": "rcKmV5HssKw1"
      },
      "execution_count": null,
      "outputs": []
    },
    {
      "cell_type": "code",
      "source": [
        "!zip -r \"/content/test_resEffDet.zip\" \"/content/gdrive/MyDrive/test_res_effdet\" #zip and upload test coordinates"
      ],
      "metadata": {
        "id": "GCmw70QPPn90"
      },
      "execution_count": null,
      "outputs": []
    }
  ]
}